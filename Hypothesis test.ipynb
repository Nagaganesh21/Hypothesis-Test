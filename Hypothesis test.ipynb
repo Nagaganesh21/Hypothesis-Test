{
 "cells": [
  {
   "cell_type": "code",
   "execution_count": 24,
   "id": "c9d72e0f",
   "metadata": {},
   "outputs": [],
   "source": [
    "import numpy as np\n",
    "import pandas as pd\n",
    "import matplotlib.pyplot as plt\n",
    "import seaborn as sns\n",
    "import scipy.stats as stats\n"
   ]
  },
  {
   "cell_type": "code",
   "execution_count": 5,
   "id": "a36cb9b8",
   "metadata": {},
   "outputs": [],
   "source": [
    "df=pd.read_csv('insurance-data.csv')"
   ]
  },
  {
   "cell_type": "code",
   "execution_count": 10,
   "id": "13c7d81c",
   "metadata": {},
   "outputs": [
    {
     "data": {
      "text/plain": [
       "0"
      ]
     },
     "execution_count": 10,
     "metadata": {},
     "output_type": "execute_result"
    }
   ],
   "source": [
    "df.isna().sum().sum()"
   ]
  },
  {
   "cell_type": "markdown",
   "id": "e06b0d4b",
   "metadata": {},
   "source": [
    "There is no null values in the dataset"
   ]
  },
  {
   "cell_type": "code",
   "execution_count": 11,
   "id": "6aa8da54",
   "metadata": {},
   "outputs": [
    {
     "data": {
      "text/html": [
       "<div>\n",
       "<style scoped>\n",
       "    .dataframe tbody tr th:only-of-type {\n",
       "        vertical-align: middle;\n",
       "    }\n",
       "\n",
       "    .dataframe tbody tr th {\n",
       "        vertical-align: top;\n",
       "    }\n",
       "\n",
       "    .dataframe thead th {\n",
       "        text-align: right;\n",
       "    }\n",
       "</style>\n",
       "<table border=\"1\" class=\"dataframe\">\n",
       "  <thead>\n",
       "    <tr style=\"text-align: right;\">\n",
       "      <th></th>\n",
       "      <th>age</th>\n",
       "      <th>bmi</th>\n",
       "      <th>children</th>\n",
       "      <th>charges</th>\n",
       "    </tr>\n",
       "  </thead>\n",
       "  <tbody>\n",
       "    <tr>\n",
       "      <th>count</th>\n",
       "      <td>1338.000000</td>\n",
       "      <td>1338.000000</td>\n",
       "      <td>1338.000000</td>\n",
       "      <td>1338.000000</td>\n",
       "    </tr>\n",
       "    <tr>\n",
       "      <th>mean</th>\n",
       "      <td>39.207025</td>\n",
       "      <td>30.663397</td>\n",
       "      <td>1.094918</td>\n",
       "      <td>13270.422265</td>\n",
       "    </tr>\n",
       "    <tr>\n",
       "      <th>std</th>\n",
       "      <td>14.049960</td>\n",
       "      <td>6.098187</td>\n",
       "      <td>1.205493</td>\n",
       "      <td>12110.011237</td>\n",
       "    </tr>\n",
       "    <tr>\n",
       "      <th>min</th>\n",
       "      <td>18.000000</td>\n",
       "      <td>15.960000</td>\n",
       "      <td>0.000000</td>\n",
       "      <td>1121.873900</td>\n",
       "    </tr>\n",
       "    <tr>\n",
       "      <th>25%</th>\n",
       "      <td>27.000000</td>\n",
       "      <td>26.296250</td>\n",
       "      <td>0.000000</td>\n",
       "      <td>4740.287150</td>\n",
       "    </tr>\n",
       "    <tr>\n",
       "      <th>50%</th>\n",
       "      <td>39.000000</td>\n",
       "      <td>30.400000</td>\n",
       "      <td>1.000000</td>\n",
       "      <td>9382.033000</td>\n",
       "    </tr>\n",
       "    <tr>\n",
       "      <th>75%</th>\n",
       "      <td>51.000000</td>\n",
       "      <td>34.693750</td>\n",
       "      <td>2.000000</td>\n",
       "      <td>16639.912515</td>\n",
       "    </tr>\n",
       "    <tr>\n",
       "      <th>max</th>\n",
       "      <td>64.000000</td>\n",
       "      <td>53.130000</td>\n",
       "      <td>5.000000</td>\n",
       "      <td>63770.428010</td>\n",
       "    </tr>\n",
       "  </tbody>\n",
       "</table>\n",
       "</div>"
      ],
      "text/plain": [
       "               age          bmi     children       charges\n",
       "count  1338.000000  1338.000000  1338.000000   1338.000000\n",
       "mean     39.207025    30.663397     1.094918  13270.422265\n",
       "std      14.049960     6.098187     1.205493  12110.011237\n",
       "min      18.000000    15.960000     0.000000   1121.873900\n",
       "25%      27.000000    26.296250     0.000000   4740.287150\n",
       "50%      39.000000    30.400000     1.000000   9382.033000\n",
       "75%      51.000000    34.693750     2.000000  16639.912515\n",
       "max      64.000000    53.130000     5.000000  63770.428010"
      ]
     },
     "execution_count": 11,
     "metadata": {},
     "output_type": "execute_result"
    }
   ],
   "source": [
    "df.describe()"
   ]
  },
  {
   "cell_type": "code",
   "execution_count": 12,
   "id": "0f08aaf1",
   "metadata": {},
   "outputs": [
    {
     "data": {
      "text/plain": [
       "no     1064\n",
       "yes     274\n",
       "Name: smoker, dtype: int64"
      ]
     },
     "execution_count": 12,
     "metadata": {},
     "output_type": "execute_result"
    }
   ],
   "source": [
    "df.smoker.value_counts()"
   ]
  },
  {
   "cell_type": "markdown",
   "id": "d294a9e1",
   "metadata": {},
   "source": [
    "In Hypotesis test:\n",
    "1) State the null and alternative hypothesis(H0,H1)\n",
    "In our dataset we want to know if the smokers spend more charges than the nonsmokers or not therefore\n",
    "H0: Charges of smokers = Charges of nonsmokers\n",
    "H1: Charges of smokers != Charges of nonsmokers\n",
    "2) Collect data in a way designed to test the hypothesis\n",
    "Will take the charges of smokers and the charges of nonsmoker in array.\n",
    "3) Perform a statistical test\n",
    "get t-value and p-value\n",
    "For each test, the t-value is a way to quantify the difference between the population means.\n",
    "If the p-value is less than a certain value (0.05) then we reject the null hypothesis of the test.\n",
    "4) Decide whether to reject or fail to reject your null hypothesis"
   ]
  },
  {
   "cell_type": "code",
   "execution_count": 21,
   "id": "1375f60e",
   "metadata": {
    "scrolled": true
   },
   "outputs": [
    {
     "name": "stdout",
     "output_type": "stream",
     "text": [
      "46.66492117272371\n",
      "8.271435842179102e-283\n",
      "Reject H0 and accept H1 therfore smokers and nonsmokers charges are not the same\n"
     ]
    }
   ],
   "source": [
    "x=np.array(df[df.smoker=='yes'].charges)\n",
    "y=np.array(df[df.smoker=='no'].charges)\n",
    "tstat,pvalue=stats.ttest_ind(x,y)\n",
    "print(tstat)\n",
    "print(pvalue)\n",
    "if pvalue < 0.05:\n",
    "   print('Reject H0 and accept H1 therfore smokers and nonsmokers charges are not the same')\n",
    "else:\n",
    "   print('fail to reject H0 therfore smokers and nonsmokers charges are the same')      "
   ]
  },
  {
   "cell_type": "markdown",
   "id": "ed4de2ce",
   "metadata": {},
   "source": [
    "Since the t-value is positive: mean of the charges of smokers > mean of the charges of nonsmokers.\n",
    "Smokers spend more charges than nonsmokers."
   ]
  },
  {
   "cell_type": "code",
   "execution_count": 22,
   "id": "07b86099",
   "metadata": {},
   "outputs": [
    {
     "name": "stdout",
     "output_type": "stream",
     "text": [
      "-46.66492117272371\n",
      "8.271435842179102e-283\n",
      "Reject H0 and accept H1 therfore smokers and nonsmokers charges are not the same\n"
     ]
    }
   ],
   "source": [
    "x=np.array(df[df.smoker=='yes'].charges)\n",
    "y=np.array(df[df.smoker=='no'].charges)\n",
    "tstat,pvalue=stats.ttest_ind(y,x)\n",
    "print(tstat)\n",
    "print(pvalue)\n",
    "if pvalue < 0.05:\n",
    "   print('Reject H0 and accept H1 therfore smokers and nonsmokers charges are not the same')\n",
    "else:\n",
    "   print('fail to reject H0 therfore smokers and nonsmokers charges are the same')    "
   ]
  }
 ],
 "metadata": {
  "kernelspec": {
   "display_name": "Python 3 (ipykernel)",
   "language": "python",
   "name": "python3"
  },
  "language_info": {
   "codemirror_mode": {
    "name": "ipython",
    "version": 3
   },
   "file_extension": ".py",
   "mimetype": "text/x-python",
   "name": "python",
   "nbconvert_exporter": "python",
   "pygments_lexer": "ipython3",
   "version": "3.9.13"
  }
 },
 "nbformat": 4,
 "nbformat_minor": 5
}
